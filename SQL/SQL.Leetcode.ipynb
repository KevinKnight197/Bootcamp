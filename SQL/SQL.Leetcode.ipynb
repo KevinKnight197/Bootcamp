{
 "cells": [
  {
   "cell_type": "markdown",
   "metadata": {},
   "source": [
    "Leetcode MySQL Solution by Puran"
   ]
  },
  {
   "cell_type": "raw",
   "metadata": {},
   "source": [
    "175 Combine two table\n",
    "Table: Person\n",
    "\n",
    "+-------------+---------+\n",
    "| Column Name | Type    |\n",
    "+-------------+---------+\n",
    "| PersonId    | int     |\n",
    "| FirstName   | varchar |\n",
    "| LastName    | varchar |\n",
    "+-------------+---------+\n",
    "PersonId is the primary key column for this table.\n",
    "Table: Address\n",
    "\n",
    "+-------------+---------+\n",
    "| Column Name | Type    |\n",
    "+-------------+---------+\n",
    "| AddressId   | int     |\n",
    "| PersonId    | int     |\n",
    "| City        | varchar |\n",
    "| State       | varchar |\n",
    "+-------------+---------+\n",
    "AddressId is the primary key column for this table.\n",
    " \n",
    "\n",
    "Write a SQL query for a report that provides the following information for each person in the Person table, \n",
    "regardless if there is an address for each of those people:\n",
    "\n",
    "FirstName, LastName, City, State"
   ]
  },
  {
   "cell_type": "markdown",
   "metadata": {},
   "source": [
    "```mysql\n",
    "select FirstName, LastName, City, State\n",
    "from Person\n",
    "left join Address\n",
    "on Person.PersonId = Address.PersonId\n",
    "```"
   ]
  },
  {
   "cell_type": "raw",
   "metadata": {},
   "source": [
    "176 Second high salary\n",
    "Write a SQL query to get the second highest salary from the Employee table.\n",
    "\n",
    "+----+--------+\n",
    "| Id | Salary |\n",
    "+----+--------+\n",
    "| 1  | 100    |\n",
    "| 2  | 200    |\n",
    "| 3  | 300    |\n",
    "+----+--------+\n",
    "For example, given the above Employee table, the query should return 200 as the second highest salary. If there is no second highest salary, then the query should return null.\n",
    "\n",
    "+---------------------+\n",
    "| SecondHighestSalary |\n",
    "+---------------------+\n",
    "| 200                 |\n",
    "+---------------------+"
   ]
  },
  {
   "cell_type": "markdown",
   "metadata": {},
   "source": [
    "ifnull(expression,'bla'): if null return 'bla', otherwise expression\n",
    "```mysql\n",
    "select ifnull(\n",
    "    (select distinct Salary\n",
    "     from Employee\n",
    "     order by Salary desc\n",
    "     limit 1 offset 1\n",
    "    ), null) as SecondHighestSalary\n",
    "\n",
    "\n",
    "select max(Salary) as SecondHighestSalary\n",
    "from Employee\n",
    "where Salary < (select max(Salary) from Employee)\n",
    "\n",
    "```"
   ]
  },
  {
   "cell_type": "raw",
   "metadata": {},
   "source": [
    "177 Nth highest salary\n",
    "Write a SQL query to get the nth highest salary from the Employee table.\n",
    "\n",
    "+----+--------+\n",
    "| Id | Salary |\n",
    "+----+--------+\n",
    "| 1  | 100    |\n",
    "| 2  | 200    |\n",
    "| 3  | 300    |\n",
    "+----+--------+\n",
    "For example, given the above Employee table, the nth highest salary where n = 2 is 200. If there is no nth highest salary, then the query should return null.\n",
    "\n",
    "+------------------------+\n",
    "| getNthHighestSalary(2) |\n",
    "+------------------------+\n",
    "| 200                    |\n",
    "+------------------------+"
   ]
  },
  {
   "cell_type": "markdown",
   "metadata": {},
   "source": [
    "```mysql\n",
    "create function getNthHighestSalary(N int) returns int\n",
    "begin \n",
    "declare M int;\n",
    "set M = N-1;\n",
    "return (\n",
    "    select dictinct Salary \n",
    "    from Employee\n",
    "    order by Salary desc\n",
    "    limit 1 offset 1\n",
    ");\n",
    "end\n",
    "```"
   ]
  }
 ],
 "metadata": {
  "hide_input": false,
  "kernelspec": {
   "display_name": "Python 3",
   "language": "python",
   "name": "python3"
  },
  "language_info": {
   "codemirror_mode": {
    "name": "ipython",
    "version": 3
   },
   "file_extension": ".py",
   "mimetype": "text/x-python",
   "name": "python",
   "nbconvert_exporter": "python",
   "pygments_lexer": "ipython3",
   "version": "3.7.3"
  },
  "toc": {
   "base_numbering": 1,
   "nav_menu": {},
   "number_sections": true,
   "sideBar": true,
   "skip_h1_title": false,
   "title_cell": "Table of Contents",
   "title_sidebar": "Contents",
   "toc_cell": false,
   "toc_position": {},
   "toc_section_display": true,
   "toc_window_display": false
  }
 },
 "nbformat": 4,
 "nbformat_minor": 2
}
