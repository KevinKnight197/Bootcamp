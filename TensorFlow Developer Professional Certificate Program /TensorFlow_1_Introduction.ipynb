{
 "cells": [
  {
   "cell_type": "markdown",
   "metadata": {},
   "source": [
    "The diagram for **traditional programming** had Rules and Data In, **anwsers** came out.\n",
    "\n",
    "\n",
    "The diagram for **Machine Learning** had Answers and Data In, **rules** caame out.\n",
    "\n",
    "**Labelling the data**: the process when I tell a computer what the data represents (i.e. this data is for walking, this data is for running)\n",
    "\n",
    "**Dense**: a layer of connected neurons\n",
    "\n",
    "**Optimizer**: generate a new and improved guess\n",
    "\n",
    "**Convergence**: the process of getting very close to the correct answer\n",
    "\n",
    "**model.fit**: it trains the neural network to fit one set of values to another"
   ]
  },
  {
   "cell_type": "code",
   "execution_count": null,
   "metadata": {},
   "outputs": [],
   "source": []
  }
 ],
 "metadata": {
  "hide_input": false,
  "kernelspec": {
   "display_name": "Python 3",
   "language": "python",
   "name": "python3"
  },
  "language_info": {
   "codemirror_mode": {
    "name": "ipython",
    "version": 3
   },
   "file_extension": ".py",
   "mimetype": "text/x-python",
   "name": "python",
   "nbconvert_exporter": "python",
   "pygments_lexer": "ipython3",
   "version": "3.7.3"
  },
  "toc": {
   "base_numbering": 1,
   "nav_menu": {},
   "number_sections": true,
   "sideBar": true,
   "skip_h1_title": false,
   "title_cell": "Table of Contents",
   "title_sidebar": "Contents",
   "toc_cell": false,
   "toc_position": {},
   "toc_section_display": true,
   "toc_window_display": false
  }
 },
 "nbformat": 4,
 "nbformat_minor": 2
}
