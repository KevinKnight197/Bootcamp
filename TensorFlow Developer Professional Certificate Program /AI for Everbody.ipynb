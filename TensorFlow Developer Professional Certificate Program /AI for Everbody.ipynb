{
 "cells": [
  {
   "cell_type": "markdown",
   "metadata": {},
   "source": [
    "@ puran"
   ]
  },
  {
   "cell_type": "markdown",
   "metadata": {},
   "source": [
    "### Demystifying AI\n",
    "`AI: ANI, AGI`<br>\n",
    "\n",
    "ANI: **artificial narrow intelligence** e.g. amart speaker, self-driving car, web search, AI in farming and factories\n",
    "\n",
    "AGI: **artificial generate intelligence** do anything a human can do"
   ]
  },
  {
   "cell_type": "markdown",
   "metadata": {},
   "source": [
    "`Machine Learning: software`\n",
    "\n",
    "Field of study that gives computers the ability to learn without being explicitly programmed.\n",
    "\n",
    "`Data Science: slide deck`\n",
    "\n",
    "Science of extracting knowledge and insights from data"
   ]
  },
  {
   "cell_type": "markdown",
   "metadata": {},
   "source": [
    "`Internet company`\n",
    "\n",
    "A/B testing<br>\n",
    "short iteration time<br>\n",
    "decision making pushed down to engineers and other specialized roles\n",
    "\n",
    "`AI company`\n",
    "\n",
    "strategy data acquisition<br>\n",
    "unified data warehouse<br>\n",
    "pervasive automation <br>\n",
    "new roles (e.g. MLE) and division of labor\n",
    "\n",
    "`AI Transformation`\n",
    "* excute pilot projects to gain momentum\n",
    "* build an in-house AI team \n",
    "* provide broad AI training\n",
    "* develop an AI strategy\n",
    "* develop internal and external communications\n"
   ]
  },
  {
   "cell_type": "markdown",
   "metadata": {},
   "source": [
    "### Building AI Projects\n",
    "`key steps of a machine learning project`\n",
    "* Collect data\n",
    "* Train model: iterate many times until good enough\n",
    "* Deploy model: get data back, maintain/update model\n",
    "\n",
    "`key steps of a data science project`\n",
    "* Collect data\n",
    "* Analyze data: iterate many times to get good insights\n",
    "* Suggest hypothesis/actions: deploy changes, re-analyze new data periodically\n",
    "\n",
    "`Brainstorming Framework`\n",
    "* think about automating tasks rather than automating jobs. e.g., call center routing\n",
    "* what are the main drivers of business\n",
    "* what are the main pain points in your business\n",
    "\n",
    "`You can make progress even without big data`\n",
    "* having more data almost bever hurt\n",
    "* data make some business (like web searching) defensible\n",
    "* but with small datasets, you can still make progress\n",
    "\n",
    "`Due diligence on project`\n",
    "\n",
    "**Technical diligence** what AI can do\n",
    "* can AI system meet desired perfoormance\n",
    "* how much data is needed\n",
    "* engineering timeline\n",
    "\n",
    "**Business diligence** value for your business\n",
    "* lower costs\n",
    "* increase revenues\n",
    "* launch new product or business\n",
    "\n",
    "`Build vs. buy`\n",
    "* ML projects can be in-house or outsource\n",
    "* DS projects are more conmmonly in-house\n",
    "* Some things will be industry standard - avoid building those\n",
    "\n",
    "`Specify your acceptance criteria`\n",
    "* Goal: detect defects with 95% accuracy\n",
    "* Provide AI team a dataset on which to measure their performance\n",
    "* Pitfall expecting 100% acc: Limit of ML, insufficient data, mislabeled data, ambiguous labels\n",
    "\n",
    "`CPU vs. GPU`\n",
    "\n",
    "CPU: computer processor (Central Process Unit)\n",
    "\n",
    "GPU: graphics processing unit\n",
    "\n",
    "`cloud deployment vs. On-premises deployment`\n"
   ]
  },
  {
   "cell_type": "markdown",
   "metadata": {},
   "source": [
    "### Building AI in your company"
   ]
  },
  {
   "cell_type": "markdown",
   "metadata": {},
   "source": [
    "#### Case study: smart speaker\n",
    "`Steps to process the command`\n",
    "\"Hey device, tell me a joke\"\n",
    "* _Trigger word/wakeword detection_: audio -> 'hey device' 0/1\n",
    "* _Speech recognition_: audio -> 'tell me a joke'\n",
    "* _Intent recognition_: 'tell me a joke' -> joke? time? music? call? weather?\n",
    "* _Execute command_"
   ]
  },
  {
   "cell_type": "markdown",
   "metadata": {},
   "source": [
    "#### Case study: Self-drving car\n",
    "`Steps for deciding how to drive`\n",
    "\n",
    "Image/Radar/Lidar + GPS, Maps => (Car detection & Pedestrian derection => Trajectory prediction) & Lane detection & Traffic light detection & obstacle detection => Motion Planning => Steer/Accelerate/Brake"
   ]
  },
  {
   "cell_type": "markdown",
   "metadata": {},
   "source": []
  },
  {
   "cell_type": "markdown",
   "metadata": {},
   "source": [
    "### AI and Society"
   ]
  },
  {
   "cell_type": "code",
   "execution_count": null,
   "metadata": {},
   "outputs": [],
   "source": []
  }
 ],
 "metadata": {
  "hide_input": false,
  "kernelspec": {
   "display_name": "Python 3",
   "language": "python",
   "name": "python3"
  },
  "language_info": {
   "codemirror_mode": {
    "name": "ipython",
    "version": 3
   },
   "file_extension": ".py",
   "mimetype": "text/x-python",
   "name": "python",
   "nbconvert_exporter": "python",
   "pygments_lexer": "ipython3",
   "version": "3.7.3"
  },
  "toc": {
   "base_numbering": 1,
   "nav_menu": {},
   "number_sections": true,
   "sideBar": true,
   "skip_h1_title": false,
   "title_cell": "Table of Contents",
   "title_sidebar": "Contents",
   "toc_cell": false,
   "toc_position": {},
   "toc_section_display": true,
   "toc_window_display": false
  }
 },
 "nbformat": 4,
 "nbformat_minor": 2
}
